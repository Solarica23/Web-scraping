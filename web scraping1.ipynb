{
 "cells": [
  {
   "cell_type": "code",
   "execution_count": null,
   "metadata": {},
   "outputs": [],
   "source": [
    "pip install beautifulsoup4\n",
    "pip install html5lib\n",
    "pip install lxml\n",
    "pip install requests"
   ]
  },
  {
   "cell_type": "code",
   "execution_count": null,
   "metadata": {},
   "outputs": [],
   "source": [
    "from bs4 import BeautifulSoup\n",
    "import requests"
   ]
  },
  {
   "cell_type": "code",
   "execution_count": null,
   "metadata": {},
   "outputs": [],
   "source": [
    "URL=\"https://www.flipkart.com/samsung-m31-prime-iceberg-blue-128-gb/p/itmf7ad901340407?pid=MOBFWVRYQ8DRGQEB&lid=LSTMOBFWVRYQ8DRGQEBINHNL3&marketplace=FLIPKART&fm=neo%2Fmerchandising&iid=M_c094feb6-5c88-4e28-bb94-bf1b416f7160_1_1BUWY8OBA8L9_MC.MOBFWVRYQ8DRGQEB&ssid=gnxll0a08w0000001611335474448&otracker=clp_pmu_v2_Latest%2BSamsung%2Bmobiles%2B_1_1.productCard.PMU_V2_Samsung%2BM31%2BPrime%2B%2528IceBerg%2BBlue%252C%2B128%2BGB%2529_samsung-mobile-store_MOBFWVRYQ8DRGQEB_neo%2Fmerchandising_0&otracker1=clp_pmu_v2_PINNED_neo%2Fmerchandising_Latest%2BSamsung%2Bmobiles%2B_LIST_productCard_cc_1_NA_view-all&cid=MOBFWVRYQ8DRGQEB\""
   ]
  },
  {
   "cell_type": "code",
   "execution_count": null,
   "metadata": {},
   "outputs": [],
   "source": [
    "r= requests.get(url)\n",
    "htmlContent= r.content\n",
    "print(htmlContent)"
   ]
  },
  {
   "cell_type": "code",
   "execution_count": null,
   "metadata": {},
   "outputs": [],
   "source": [
    "soup= BeautifulSoup(htmlContent,'lxml')\n",
    "print(soup.prettify())"
   ]
  },
  {
   "cell_type": "code",
   "execution_count": null,
   "metadata": {},
   "outputs": [],
   "source": [
    "desc= soup.find('div',id='container')\n",
    "productDesc=desc.find('div',class_=\"_2k6Cpt\").text\n",
    "print(productDesc)"
   ]
  },
  {
   "cell_type": "code",
   "execution_count": null,
   "metadata": {},
   "outputs": [],
   "source": [
    "review= soup.find('div',class_='_2c2kV-')\n",
    "proReview=review.div.text\n",
    "print(review)\n",
    "#for i in proReview:\n",
    "    #print(i.text)"
   ]
  }
 ],
 "metadata": {
  "kernelspec": {
   "display_name": "Python 3",
   "language": "python",
   "name": "python3"
  },
  "language_info": {
   "codemirror_mode": {
    "name": "ipython",
    "version": 3
   },
   "file_extension": ".py",
   "mimetype": "text/x-python",
   "name": "python",
   "nbconvert_exporter": "python",
   "pygments_lexer": "ipython3",
   "version": "3.7.6"
  }
 },
 "nbformat": 4,
 "nbformat_minor": 4
}
